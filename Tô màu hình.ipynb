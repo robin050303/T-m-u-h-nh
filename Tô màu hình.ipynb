{
 "cells": [
  {
   "cell_type": "code",
   "execution_count": null,
   "id": "f3c39b55",
   "metadata": {},
   "outputs": [],
   "source": [
    "import turtle as t\n",
    "import random\n",
    " \n",
    "number = random.uniform(0, 3)\n",
    "intNumber = int(number)\n",
    "print(round(number,2))\n",
    " \n",
    "wn = t.Screen()\n",
    "wn.bgcolor(\"black\")\n",
    "wn.title(\"Circle\")\n",
    " \n",
    "ball = t.Turtle()\n",
    "ball.shape('circle')\n",
    " \n",
    "if intNumber < 1:\n",
    "    ball.color('green')\n",
    "elif intNumber < 2:\n",
    "    ball.color('yellow')\n",
    "elif intNumber < 3:\n",
    "    ball.color('red')\n",
    "t.done()"
   ]
  }
 ],
 "metadata": {
  "kernelspec": {
   "display_name": "Python 3 (ipykernel)",
   "language": "python",
   "name": "python3"
  },
  "language_info": {
   "codemirror_mode": {
    "name": "ipython",
    "version": 3
   },
   "file_extension": ".py",
   "mimetype": "text/x-python",
   "name": "python",
   "nbconvert_exporter": "python",
   "pygments_lexer": "ipython3",
   "version": "3.9.5"
  }
 },
 "nbformat": 4,
 "nbformat_minor": 5
}
